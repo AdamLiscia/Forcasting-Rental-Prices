{
 "cells": [
  {
   "cell_type": "markdown",
   "metadata": {},
   "source": [
    "<div class=\"alert alert-block alert-info\">\n",
    "\n",
    "# Import libraries and data"
   ]
  },
  {
   "cell_type": "code",
   "execution_count": null,
   "metadata": {},
   "outputs": [],
   "source": [
    "import pandas as pd\n",
    "import numpy as np \n",
    "import matplotlib.pyplot as plt\n",
    "from statsmodels.tsa.stattools import adfuller\n",
    "from statsmodels.tsa.stattools import acf, pacf\n",
    "from statsmodels.tsa.arima_model import ARIMA\n",
    "from sklearn.metrics import mean_squared_error\n",
    "import statsmodels.api as sm\n",
    "import warnings\n",
    "warnings.filterwarnings(\"ignore\")"
   ]
  },
  {
   "cell_type": "code",
   "execution_count": null,
   "metadata": {},
   "outputs": [],
   "source": [
    "price_df = pd.read_csv('Data/price.csv')\n",
    "pricepersqft_df = pd.read_csv('Data/pricepersqft.csv')\n",
    "price_df.head()"
   ]
  },
  {
   "cell_type": "markdown",
   "metadata": {},
   "source": [
    "<div class=\"alert alert-block alert-info\">\n",
    "\n",
    "# Look for a Particular City"
   ]
  },
  {
   "cell_type": "markdown",
   "metadata": {},
   "source": [
    "### Select a city"
   ]
  },
  {
   "cell_type": "code",
   "execution_count": null,
   "metadata": {},
   "outputs": [],
   "source": [
    "# Check to see if the city is in the dataframe\n",
    "\n",
    "city = \"Phoenix\"\n",
    "check = price_df['City'].unique()\n",
    "city in check"
   ]
  },
  {
   "cell_type": "markdown",
   "metadata": {},
   "source": [
    "### Does the city only appear once?"
   ]
  },
  {
   "cell_type": "code",
   "execution_count": null,
   "metadata": {
    "scrolled": true
   },
   "outputs": [],
   "source": [
    "# Inspect the df to make sure there's one row\n",
    "\n",
    "price_df.loc[price_df['City'] == city]"
   ]
  },
  {
   "cell_type": "markdown",
   "metadata": {},
   "source": [
    "### Prep the city's data"
   ]
  },
  {
   "cell_type": "code",
   "execution_count": null,
   "metadata": {},
   "outputs": [],
   "source": [
    "# Get the index of the city\n",
    "city_index = price_df.index[price_df['City'] == city][0]\n",
    "\n",
    "# Flip the dimensions of the dataframe\n",
    "city_df = price_df.loc[city_index].transpose()\n",
    "\n",
    "# Create the time column\n",
    "monthly_intervals = pd.date_range('2010-11', periods=75, freq='M')\n",
    "\n",
    "# Drop unnecessary columns \n",
    "city_df = city_df.drop(['City Code', 'City','Metro','County','State','Population Rank'], axis=0)\n",
    "city_df = city_df.to_frame()\n",
    "\n",
    "# Add the time column and set it as the index\n",
    "city_df['Time'] = monthly_intervals.values\n",
    "city_df = city_df.set_index('Time')\n",
    "\n",
    "# Rename the Price column\n",
    "city_df['Price'] = city_df[city_index]\n",
    "city_df = city_df.drop([city_index], axis = 1)\n",
    "\n",
    "# Create a list of prices.  This will be used to create the log column\n",
    "city_prices = list(city_df['Price'])"
   ]
  },
  {
   "cell_type": "markdown",
   "metadata": {},
   "source": [
    "<div class=\"alert alert-block alert-info\">\n",
    "\n",
    "# Stationarity Check Function"
   ]
  },
  {
   "cell_type": "markdown",
   "metadata": {},
   "source": [
    "We will be using this function to check the stationarity of our data by performing a Dickie Fuller Test"
   ]
  },
  {
   "cell_type": "code",
   "execution_count": null,
   "metadata": {},
   "outputs": [],
   "source": [
    "def stationarity_check(TS):\n",
    "\n",
    "    # Calculate rolling statistics\n",
    "    rolmean = TS.rolling(window = 12, center = False).mean()\n",
    "    rolstd = TS.rolling(window = 12, center = False).std()\n",
    "    \n",
    "    # Perform the Dickey Fuller Test\n",
    "    dftest = adfuller(TS) \n",
    "    \n",
    "    #Plot rolling statistics:\n",
    "    fig = plt.figure(figsize=(12,6))\n",
    "    orig = plt.plot(TS, color='blue',label='Original')\n",
    "    mean = plt.plot(rolmean, color='red', label='Rolling Mean')\n",
    "    std = plt.plot(rolstd, color='black', label = 'Rolling Std')\n",
    "    plt.legend(loc='best')\n",
    "    plt.title('Rolling Mean & Standard Deviation')\n",
    "    plt.show(block=False)\n",
    "    \n",
    "    # Print Dickey-Fuller test results\n",
    "    print ('Results of Dickey-Fuller Test:')\n",
    "\n",
    "    dfoutput = pd.Series(dftest[0:4], index=['Test Statistic','p-value','#Lags Used','Number of Observations Used'])\n",
    "    for key,value in dftest[4].items():\n",
    "        dfoutput['Critical Value (%s)'%key] = value\n",
    "    print (dfoutput)\n",
    "    \n",
    "    return None"
   ]
  },
  {
   "cell_type": "markdown",
   "metadata": {},
   "source": [
    "<div class=\"alert alert-block alert-info\">\n",
    "\n",
    "# Transformations"
   ]
  },
  {
   "cell_type": "markdown",
   "metadata": {},
   "source": [
    "### Look for which transformation has the lowest test statistic"
   ]
  },
  {
   "cell_type": "code",
   "execution_count": null,
   "metadata": {},
   "outputs": [],
   "source": [
    "print('Log_Scale')\n",
    "city_df['Log_Scale'] = np.log(city_prices)\n",
    "stationarity_check(city_df.Log_Scale.dropna(inplace=False))\n",
    "\n",
    "print('')\n",
    "print('First_Difference')\n",
    "city_df['First_Difference'] = city_df['Log_Scale'] - city_df['Log_Scale'].shift(1)\n",
    "stationarity_check(city_df['First_Difference'].dropna(inplace=False) )\n",
    "\n",
    "print('')\n",
    "print('Rolling_Avg')\n",
    "city_df['Rolling_Avg'] = city_df['Log_Scale'].rolling(window = 12).mean()\n",
    "stationarity_check(city_df.Rolling_Avg.dropna(inplace=False))\n",
    "\n",
    "print('')\n",
    "print('Log_Sub_Rolling')\n",
    "city_df['Log_Sub_Rolling'] = city_df['Log_Scale'][13:] - city_df['Rolling_Avg'][13:]\n",
    "stationarity_check(city_df.Log_Sub_Rolling.dropna(inplace=False))\n",
    "\n",
    "print('')\n",
    "print('Exp_Weight_Avg')\n",
    "city_df['Exp_Weight_Avg'] = city_df['Log_Scale'].ewm(halflife = 12, min_periods = 0, adjust = True).mean()\n",
    "stationarity_check(city_df.Exp_Weight_Avg.dropna(inplace=False))\n",
    "\n",
    "print('')\n",
    "print('Log_Sub_Exp')\n",
    "city_df['Log_Sub_Exp'] = city_df['Log_Scale'] - city_df['Exp_Weight_Avg']\n",
    "stationarity_check(city_df.Log_Sub_Exp.dropna(inplace=False))\n",
    "\n",
    "print('')\n",
    "print('Log_Sub_Exp_Shift')\n",
    "city_df['Log_Sub_Exp_Shift'] = city_df['Log_Sub_Exp'] - city_df['Log_Sub_Exp'].shift(1)\n",
    "stationarity_check(city_df.Log_Sub_Exp_Shift.dropna(inplace=False))\n",
    "\n",
    "print('')\n",
    "print('Log_Sub_Roll_Shift')\n",
    "city_df['Log_Sub_Roll_Shift'] = city_df['Log_Sub_Rolling'] - city_df['Log_Sub_Rolling'].shift(1)\n",
    "stationarity_check(city_df.Log_Sub_Roll_Shift.dropna(inplace=False))"
   ]
  },
  {
   "cell_type": "markdown",
   "metadata": {},
   "source": [
    "<div class=\"alert alert-block alert-info\">\n",
    "\n",
    "# Plot ACF and PACF graphs to get Q and P values"
   ]
  },
  {
   "cell_type": "code",
   "execution_count": null,
   "metadata": {},
   "outputs": [],
   "source": [
    "from statsmodels.tsa.stattools import acf, pacf\n",
    "\n",
    "# ACF and PACF plots:\n",
    "# We use the column that produced the best stationarity\n",
    "\n",
    "### This is a section that needs to be fill out: ### \n",
    "\n",
    "best_dickie_fuller = 'Log_Sub_Exp_Shift'\n",
    "\n",
    "city_df[best_dickie_fuller].dropna(inplace = True)\n",
    "lag_acf = acf(city_df[best_dickie_fuller], nlags=10)\n",
    "lag_pacf = pacf(city_df[best_dickie_fuller], nlags=10, method='ols')\n",
    "\n",
    "\n",
    "#Plot ACF: \n",
    "plt.figure(figsize = (12,6))\n",
    "plt.subplot(211) \n",
    "\n",
    "plt.plot(lag_acf)\n",
    "plt.axhline(y=0,linestyle='--',color='gray')\n",
    "plt.axhline(y=-1.96/np.sqrt(74),linestyle='--',color='gray')\n",
    "plt.axhline(y=1.96/np.sqrt(74),linestyle='--',color='gray')\n",
    "plt.title('Autocorrelation Function')\n",
    "plt.tight_layout()\n",
    "\n",
    "#Plot PACF:\n",
    "plt.figure(figsize = (12,6))\n",
    "plt.subplot(212)\n",
    "plt.plot(lag_pacf)\n",
    "plt.axhline(y=0,linestyle='--',color='gray')\n",
    "plt.axhline(y=-1.96/np.sqrt(74),linestyle='--',color='gray')\n",
    "plt.axhline(y=1.96/np.sqrt(74),linestyle='--',color='gray')\n",
    "plt.title('Partial Autocorrelation Function')\n",
    "plt.tight_layout()"
   ]
  },
  {
   "cell_type": "markdown",
   "metadata": {},
   "source": [
    "<div class=\"alert alert-block alert-info\">\n",
    "\n",
    "# Build the ARIMA Model"
   ]
  },
  {
   "cell_type": "markdown",
   "metadata": {},
   "source": [
    "When modeling, we model against the Log Scale and tune the parameters based on the ACF and PACF graphs"
   ]
  },
  {
   "cell_type": "code",
   "execution_count": null,
   "metadata": {
    "scrolled": false
   },
   "outputs": [],
   "source": [
    "# We model against the Log Scale\n",
    "X = city_df['Log_Scale']\n",
    "\n",
    "# How big do we want our test set?\n",
    "size = int(len(X) * 0.66)\n",
    "\n",
    "# Train, Test, Split\n",
    "train, test = X[0:size], X[size:len(X)]\n",
    "\n",
    "# Want just a list of the training values, no time attached\n",
    "history = [x for x in train]\n",
    "\n",
    "# print each prediction\n",
    "predictions = []\n",
    "for t in range(len(test)):\n",
    "    model = ARIMA(history, order=(4,2,0))\n",
    "    model_fit = model.fit(disp=0)\n",
    "    output = model_fit.forecast()\n",
    "    yhat = output[0]\n",
    "    predictions.append(yhat)\n",
    "    obs = test[t]\n",
    "    history.append(obs)\n",
    "    print('predicted = %f, expected = %f, absolute difference = %f' % (yhat, obs, (abs(yhat - obs))))\n",
    "error = mean_squared_error(test, predictions)\n",
    "print('Test MSE: %.9f' % error)"
   ]
  },
  {
   "cell_type": "code",
   "execution_count": null,
   "metadata": {},
   "outputs": [],
   "source": [
    "# Create predictions\n",
    "predicts = []\n",
    "\n",
    "# Convert the predicted log values to rental prices\n",
    "for i in predictions:\n",
    "    predicts.extend(np.exp(i))\n",
    "\n",
    "# Convert the expected log value to rental prices\n",
    "expects = test.tolist()\n",
    "expects_median = []\n",
    "for i in expects:\n",
    "    expects_median.append(np.exp(i))\n"
   ]
  },
  {
   "cell_type": "code",
   "execution_count": null,
   "metadata": {},
   "outputs": [],
   "source": [
    "# Graph the expected and the predicted values\n",
    "\n",
    "plt.figure(figsize = (14,7))\n",
    "x = np.arange(0, 26, 1)\n",
    "# create an index for each tick position\n",
    "xi = [i for i in range(0, len(x))]\n",
    "y = predicts\n",
    "z = expects_median\n",
    "plt.plot(xi, y, linestyle='-', color='r', label='Predicted', linewidth=4.0)\n",
    "plt.plot(xi, z, linestyle='-', color='b', label='Actual', linewidth=4.0) \n",
    "plt.xlabel('Last 26 Months', fontsize=24)\n",
    "plt.ylabel('Median Rental Price', fontsize=24) \n",
    "plt.xticks(xi, x,)\n",
    "plt.tick_params('x', colors='black', size = 10, labelsize = 14)\n",
    "plt.tick_params('y', colors='black', size = 10, labelsize = 14)\n",
    "plt.title(city, fontsize=30)\n",
    "plt.legend(prop={'size': 20}) \n",
    "plt.show()"
   ]
  },
  {
   "cell_type": "markdown",
   "metadata": {},
   "source": [
    "<div class=\"alert alert-block alert-info\">\n",
    "\n",
    "# MAPE and Mean Squared Error"
   ]
  },
  {
   "cell_type": "code",
   "execution_count": null,
   "metadata": {},
   "outputs": [],
   "source": [
    "def mean_absolute_percentage_error(y_true, y_pred): \n",
    "    y_true, y_pred = np.array(y_true), np.array(y_pred)\n",
    "    print('Mape = ' + str(np.mean(np.abs((y_true - y_pred) / y_true)) * 100))\n",
    "mean_absolute_percentage_error(expects_median, predicts)\n",
    "print('MSE = ' + str(mean_squared_error(expects_median, predicts)))"
   ]
  },
  {
   "cell_type": "markdown",
   "metadata": {},
   "source": [
    "<div class=\"alert alert-block alert-info\">\n",
    "\n",
    "# Predicting the next year"
   ]
  },
  {
   "cell_type": "code",
   "execution_count": null,
   "metadata": {
    "scrolled": false
   },
   "outputs": [],
   "source": [
    "# Get the foecast for the nex 12 mntohs\n",
    "forecast = model_fit.forecast(steps = 12)\n",
    "\n",
    "# Next 12 month predictions\n",
    "next_12_months = forecast[0].tolist()\n",
    "next_year = []\n",
    "for i in next_12_months:\n",
    "    next_year.append(np.exp(i))\n",
    "next_year"
   ]
  },
  {
   "cell_type": "code",
   "execution_count": null,
   "metadata": {},
   "outputs": [],
   "source": [
    "# Upper Confidence Boundry\n",
    "forecast = model_fit.forecast(steps = 12)\n",
    "next_12_months = (forecast[0] + forecast[1]).tolist()\n",
    "upper_ci = []\n",
    "for i in next_12_months:\n",
    "    upper_ci.append(np.exp(i))\n",
    "upper_ci"
   ]
  },
  {
   "cell_type": "code",
   "execution_count": null,
   "metadata": {},
   "outputs": [],
   "source": [
    "# Lower Confidence Boundry\n",
    "forecast = model_fit.forecast(steps = 12)\n",
    "next_12_months = (forecast[0] - forecast[1]).tolist()\n",
    "lower_ci = []\n",
    "for i in next_12_months:\n",
    "    lower_ci.append(np.exp(i))\n",
    "lower_ci"
   ]
  },
  {
   "cell_type": "code",
   "execution_count": null,
   "metadata": {},
   "outputs": [],
   "source": [
    "plt.figure(figsize = (14,7))\n",
    "x = np.arange(0, 38, 1)\n",
    "# create an index for each tick position\n",
    "predict_x = [i for i in range(26, len(x))]\n",
    "xi = [i for i in range(0, len(x)-12)]\n",
    "y = predicts\n",
    "z = expects_median\n",
    "\n",
    "plt.plot(xi, y, linestyle='-', color='r', label='Predicted', linewidth=4.0)\n",
    "plt.plot(xi, z, linestyle='-', color='b', label='Actual', linewidth=4.0)\n",
    "plt.plot(predict_x, next_year, linestyle='-', color='green', label='Next Year', linewidth=4.0)\n",
    "\n",
    "# confidence intervals\n",
    "plt.plot(predict_x, lower_ci, linestyle='-', color='gray', label='CI', linewidth=4.0)\n",
    "plt.plot(predict_x, upper_ci, linestyle='-', color='gray', linewidth=4.0)\n",
    "\n",
    "plt.xlabel('Months', fontsize=24)\n",
    "plt.ylabel('Median Rental Price', fontsize=24) \n",
    "plt.xticks(x, x,)\n",
    "plt.tick_params('x', colors='black', size = 10, labelsize = 14)\n",
    "plt.tick_params('y', colors='black', size = 10, labelsize = 14)\n",
    "plt.title(city, fontsize=30)\n",
    "plt.legend(prop={'size': 20}) \n",
    "plt.show()"
   ]
  },
  {
   "cell_type": "code",
   "execution_count": null,
   "metadata": {},
   "outputs": [],
   "source": []
  },
  {
   "cell_type": "code",
   "execution_count": null,
   "metadata": {},
   "outputs": [],
   "source": []
  }
 ],
 "metadata": {
  "kernelspec": {
   "display_name": "Python 3",
   "language": "python",
   "name": "python3"
  },
  "language_info": {
   "codemirror_mode": {
    "name": "ipython",
    "version": 3
   },
   "file_extension": ".py",
   "mimetype": "text/x-python",
   "name": "python",
   "nbconvert_exporter": "python",
   "pygments_lexer": "ipython3",
   "version": "3.6.5"
  }
 },
 "nbformat": 4,
 "nbformat_minor": 2
}
